{
 "cells": [
  {
   "cell_type": "code",
   "execution_count": 14,
   "metadata": {},
   "outputs": [
    {
     "name": "stdout",
     "output_type": "stream",
     "text": "14331\n14331\n"
    }
   ],
   "source": [
    "with open('predict-1000.txt','r+',encoding='utf-8',) as f:\n",
    "    tmp1=f.readlines()\n",
    "print(len(tmp1))\n",
    "with open('准确率测试.txt','r+',encoding='utf-8',) as f:\n",
    "    tmp2=f.readlines()\n",
    "print(len(tmp2))\n",
    "\n",
    "with open('result.txt','w+',encoding='utf-8',) as f:\n",
    "    for i in range(len(tmp1)):\n",
    "        if i!=\"\\n\" and i!=\"\":\n",
    "            f.write(tmp1[i].strip())\n",
    "            f.write(' ')\n",
    "            try:\n",
    "                f.write(tmp2[i].split(' ')[1])\n",
    "            except:\n",
    "                f.write(tmp2[i])"
   ]
  }
 ],
 "metadata": {
  "kernelspec": {
   "display_name": "Python 3",
   "language": "python",
   "name": "python3"
  },
  "language_info": {
   "codemirror_mode": {
    "name": "ipython",
    "version": 2
   },
   "file_extension": ".py",
   "mimetype": "text/x-python",
   "name": "python",
   "nbconvert_exporter": "python",
   "pygments_lexer": "ipython2",
   "version": "3.6.3-final"
  }
 },
 "nbformat": 4,
 "nbformat_minor": 0
}